{
 "cells": [
  {
   "cell_type": "code",
   "execution_count": 2,
   "metadata": {},
   "outputs": [],
   "source": [
    "from typing import Union"
   ]
  },
  {
   "cell_type": "code",
   "execution_count": 18,
   "metadata": {},
   "outputs": [],
   "source": [
    "def object_to_xml(data: Union[dict, bool], root='annotation'):\n",
    "    if root.startswith('object'):\n",
    "        root = 'object'\n",
    "    xml = f'<{root}>'\n",
    "    if isinstance(data, dict):\n",
    "        for key, value in data.items():\n",
    "            xml += object_to_xml(value, key)\n",
    "\n",
    "    else:\n",
    "        xml += str(data)\n",
    "\n",
    "    xml += f'</{root}>'\n",
    "    return xml"
   ]
  },
  {
   "cell_type": "code",
   "execution_count": 22,
   "metadata": {},
   "outputs": [],
   "source": [
    "data_sample = {'folder': 'templates', 'filename':'something','path':'D:\\Work','source':{'database':'unknown'}, 'size':{'width':1700, 'height':2200, 'depth':3},'segmented':0, 'object_1':{'name':\"Label Name\", 'pose':'unspecified','truncated':0, 'difficult':0,'bndbox':{'xmin':0, 'ymin':10, 'xmax':200, 'ymax':200}},'object_2':{'name':\"Label Name\", 'pose':'unspecified','truncated':0, 'difficult':0,'bndbox':{'xmin':0, 'ymin':10, 'xmax':200, 'ymax':200}}}\n",
    "\n",
    "\n",
    "\n"
   ]
  },
  {
   "cell_type": "code",
   "execution_count": 23,
   "metadata": {},
   "outputs": [],
   "source": [
    "xml = object_to_xml(data_sample)"
   ]
  },
  {
   "cell_type": "code",
   "execution_count": 24,
   "metadata": {},
   "outputs": [
    {
     "name": "stdout",
     "output_type": "stream",
     "text": [
      "<?xml version=\"1.0\" ?>\n",
      "<annotation>\n",
      "\t<folder>templates</folder>\n",
      "\t<filename>something</filename>\n",
      "\t<path>D:\\Work</path>\n",
      "\t<source>\n",
      "\t\t<database>unknown</database>\n",
      "\t</source>\n",
      "\t<size>\n",
      "\t\t<width>1700</width>\n",
      "\t\t<height>2200</height>\n",
      "\t\t<depth>3</depth>\n",
      "\t</size>\n",
      "\t<segmented>0</segmented>\n",
      "\t<object>\n",
      "\t\t<name>Label Name</name>\n",
      "\t\t<pose>unspecified</pose>\n",
      "\t\t<truncated>0</truncated>\n",
      "\t\t<difficult>0</difficult>\n",
      "\t\t<bndbox>\n",
      "\t\t\t<xmin>0</xmin>\n",
      "\t\t\t<ymin>10</ymin>\n",
      "\t\t\t<xmax>200</xmax>\n",
      "\t\t\t<ymax>200</ymax>\n",
      "\t\t</bndbox>\n",
      "\t</object>\n",
      "\t<object>\n",
      "\t\t<name>Label Name</name>\n",
      "\t\t<pose>unspecified</pose>\n",
      "\t\t<truncated>0</truncated>\n",
      "\t\t<difficult>0</difficult>\n",
      "\t\t<bndbox>\n",
      "\t\t\t<xmin>0</xmin>\n",
      "\t\t\t<ymin>10</ymin>\n",
      "\t\t\t<xmax>200</xmax>\n",
      "\t\t\t<ymax>200</ymax>\n",
      "\t\t</bndbox>\n",
      "\t</object>\n",
      "</annotation>\n",
      "\n"
     ]
    }
   ],
   "source": [
    "from xml.dom.minidom import parseString\n",
    "dom = parseString(xml)\n",
    "print(dom.toprettyxml())"
   ]
  },
  {
   "cell_type": "code",
   "execution_count": 26,
   "metadata": {},
   "outputs": [],
   "source": [
    "data = {'Annotation': [{'original_width': 1700, 'original_height': 2200, 'image_rotation': 0, 'value': {'x': 9.98439937597504, 'y': 10.72289156626506, 'width': 53.66614664586584, 'height': 0.8565512048192772, 'rotation': 0, 'rectanglelabels': ['label']}, 'id': '-GDzwc8oMx', 'from_name': 'tag', 'to_name': 'img', 'type': 'rectanglelabels'}, {'original_width': 1700, 'original_height': 2200, 'image_rotation': 0, 'value': {'x': 9.51638065522621, 'y': 10.843373493975903, 'width': 72.65259360374415, 'height': 2.5301204819277108, 'rotation': 0, 'rectanglelabels': ['Name']}, 'id': 'umgwY0i3gB', 'from_name': 'tag', 'to_name': 'img', 'type': 'rectanglelabels'}], 'filename': 'template_795805f2-48ff-11ec-8a97-3e22fb75684c'}"
   ]
  },
  {
   "cell_type": "code",
   "execution_count": 29,
   "metadata": {},
   "outputs": [],
   "source": [
    "annotation = data['Annotation']"
   ]
  },
  {
   "cell_type": "code",
   "execution_count": 30,
   "metadata": {},
   "outputs": [],
   "source": [
    "filename = data['filename']"
   ]
  },
  {
   "cell_type": "code",
   "execution_count": 31,
   "metadata": {},
   "outputs": [
    {
     "data": {
      "text/plain": [
       "[{'original_width': 1700,\n",
       "  'original_height': 2200,\n",
       "  'image_rotation': 0,\n",
       "  'value': {'x': 9.98439937597504,\n",
       "   'y': 10.72289156626506,\n",
       "   'width': 53.66614664586584,\n",
       "   'height': 0.8565512048192772,\n",
       "   'rotation': 0,\n",
       "   'rectanglelabels': ['label']},\n",
       "  'id': '-GDzwc8oMx',\n",
       "  'from_name': 'tag',\n",
       "  'to_name': 'img',\n",
       "  'type': 'rectanglelabels'},\n",
       " {'original_width': 1700,\n",
       "  'original_height': 2200,\n",
       "  'image_rotation': 0,\n",
       "  'value': {'x': 9.51638065522621,\n",
       "   'y': 10.843373493975903,\n",
       "   'width': 72.65259360374415,\n",
       "   'height': 2.5301204819277108,\n",
       "   'rotation': 0,\n",
       "   'rectanglelabels': ['Name']},\n",
       "  'id': 'umgwY0i3gB',\n",
       "  'from_name': 'tag',\n",
       "  'to_name': 'img',\n",
       "  'type': 'rectanglelabels'}]"
      ]
     },
     "execution_count": 31,
     "metadata": {},
     "output_type": "execute_result"
    }
   ],
   "source": [
    "annotation"
   ]
  },
  {
   "cell_type": "code",
   "execution_count": 34,
   "metadata": {},
   "outputs": [],
   "source": [
    "width = annotation[0]['original_width']\n",
    "height = annotation[0]['original_height']\n"
   ]
  },
  {
   "cell_type": "code",
   "execution_count": 36,
   "metadata": {},
   "outputs": [
    {
     "data": {
      "text/plain": [
       "(1700, 2200)"
      ]
     },
     "execution_count": 36,
     "metadata": {},
     "output_type": "execute_result"
    }
   ],
   "source": [
    "width, height"
   ]
  },
  {
   "cell_type": "code",
   "execution_count": 46,
   "metadata": {},
   "outputs": [],
   "source": [
    "annotation_dict = {'filename': f'{filename}.jpg'}\n",
    "for ix, ob in enumerate(annotation):\n",
    "    annotation_dict[f'object_{ix}']= {'name': ob['value']['rectanglelabels'][0], 'bndbox':{\n",
    "        'xmin': int(ob['value']['x']/100*width),\n",
    "        'ymin': int(ob['value']['y']/100*height),\n",
    "        'xmax': int(ob['value']['x']/100*width) + int(ob['value']['width']/100*width),\n",
    "        'ymax': int(ob['value']['y']/100*height) +int(ob['value']['height']/100*height)\n",
    "    }}"
   ]
  },
  {
   "cell_type": "code",
   "execution_count": 47,
   "metadata": {},
   "outputs": [],
   "source": [
    "xml = object_to_xml(annotation_dict)"
   ]
  },
  {
   "cell_type": "code",
   "execution_count": 48,
   "metadata": {},
   "outputs": [
    {
     "name": "stdout",
     "output_type": "stream",
     "text": [
      "<?xml version=\"1.0\" ?>\n",
      "<annotation>\n",
      "\t<filename>template_795805f2-48ff-11ec-8a97-3e22fb75684c.jpg</filename>\n",
      "\t<object>\n",
      "\t\t<name>label</name>\n",
      "\t\t<bndbox>\n",
      "\t\t\t<xmin>169</xmin>\n",
      "\t\t\t<ymin>235</ymin>\n",
      "\t\t\t<xmax>1081</xmax>\n",
      "\t\t\t<ymax>253</ymax>\n",
      "\t\t</bndbox>\n",
      "\t</object>\n",
      "\t<object>\n",
      "\t\t<name>Name</name>\n",
      "\t\t<bndbox>\n",
      "\t\t\t<xmin>161</xmin>\n",
      "\t\t\t<ymin>238</ymin>\n",
      "\t\t\t<xmax>1396</xmax>\n",
      "\t\t\t<ymax>293</ymax>\n",
      "\t\t</bndbox>\n",
      "\t</object>\n",
      "</annotation>\n",
      "\n"
     ]
    }
   ],
   "source": [
    "from xml.dom.minidom import parseString\n",
    "dom = parseString(xml)\n",
    "print(dom.toprettyxml())"
   ]
  },
  {
   "cell_type": "code",
   "execution_count": 49,
   "metadata": {},
   "outputs": [
    {
     "data": {
      "text/plain": [
       "'template_795805f2-48ff-11ec-8a97-3e22fb75684c'"
      ]
     },
     "execution_count": 49,
     "metadata": {},
     "output_type": "execute_result"
    }
   ],
   "source": [
    "filename"
   ]
  },
  {
   "cell_type": "code",
   "execution_count": 50,
   "metadata": {},
   "outputs": [],
   "source": [
    "with open(f'{filename}.xml', 'w') as doc:\n",
    "    doc.write(dom.toprettyxml())"
   ]
  },
  {
   "cell_type": "code",
   "execution_count": null,
   "metadata": {},
   "outputs": [],
   "source": []
  }
 ],
 "metadata": {
  "kernelspec": {
   "display_name": "Python 3",
   "language": "python",
   "name": "python3"
  },
  "language_info": {
   "codemirror_mode": {
    "name": "ipython",
    "version": 3
   },
   "file_extension": ".py",
   "mimetype": "text/x-python",
   "name": "python",
   "nbconvert_exporter": "python",
   "pygments_lexer": "ipython3",
   "version": "3.8.3"
  }
 },
 "nbformat": 4,
 "nbformat_minor": 4
}
