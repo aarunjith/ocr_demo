{
 "cells": [
  {
   "cell_type": "code",
   "execution_count": 2,
   "metadata": {},
   "outputs": [],
   "source": [
    "from typing import Union"
   ]
  },
  {
   "cell_type": "code",
   "execution_count": 4,
   "metadata": {},
   "outputs": [],
   "source": [
    "def object_to_xml(data: Union[dict, bool], root='annotation'):\n",
    "    if root.startswith('object'):\n",
    "        root = 'object'\n",
    "    xml = f'<{root}>'\n",
    "    if isinstance(data, dict):\n",
    "        for key, value in data.items():\n",
    "            xml += object_to_xml(value, key)\n",
    "\n",
    "    else:\n",
    "        xml += str(data)\n",
    "\n",
    "    xml += f'</{root}>'\n",
    "    return xml"
   ]
  },
  {
   "cell_type": "code",
   "execution_count": 15,
   "metadata": {},
   "outputs": [],
   "source": [
    "data_sample = {'folder': 'templates', 'filename':'something','path':'D:\\Work','source':{'database':'unknown'}, 'size':{'width':1700, 'height':2200, 'depth':3},'segmented':0, 'object_1':{'name':\"Label Name\", 'pose':'unspecified','truncated':0, 'difficult':0,'bndbox':{'xmin':0, 'ymin':10, 'xmax':200, 'ymax':200}}}\n",
    "\n",
    "\n",
    "\n"
   ]
  },
  {
   "cell_type": "code",
   "execution_count": 16,
   "metadata": {},
   "outputs": [],
   "source": [
    "xml = object_to_xml(data_sample)"
   ]
  },
  {
   "cell_type": "code",
   "execution_count": 17,
   "metadata": {},
   "outputs": [
    {
     "name": "stdout",
     "output_type": "stream",
     "text": [
      "<?xml version=\"1.0\" ?>\n",
      "<annotation>\n",
      "\t<folder>templates</folder>\n",
      "\t<filename>something</filename>\n",
      "\t<path>D:\\Work</path>\n",
      "\t<source>\n",
      "\t\t<database>unknown</database>\n",
      "\t</source>\n",
      "\t<size>\n",
      "\t\t<width>1700</width>\n",
      "\t\t<height>2200</height>\n",
      "\t\t<depth>3</depth>\n",
      "\t</size>\n",
      "\t<segmented>0</segmented>\n",
      "\t<object_1>\n",
      "\t\t<name>Label Name</name>\n",
      "\t\t<pose>unspecified</pose>\n",
      "\t\t<truncated>0</truncated>\n",
      "\t\t<difficult>0</difficult>\n",
      "\t\t<bndbox>\n",
      "\t\t\t<xmin>0</xmin>\n",
      "\t\t\t<ymin>10</ymin>\n",
      "\t\t\t<xmax>200</xmax>\n",
      "\t\t\t<ymax>200</ymax>\n",
      "\t\t</bndbox>\n",
      "\t</object_1>\n",
      "</annotation>\n",
      "\n"
     ]
    }
   ],
   "source": [
    "from xml.dom.minidom import parseString\n",
    "dom = parseString(xml)\n",
    "print(dom.toprettyxml())"
   ]
  },
  {
   "cell_type": "code",
   "execution_count": null,
   "metadata": {},
   "outputs": [],
   "source": []
  }
 ],
 "metadata": {
  "kernelspec": {
   "display_name": "Python 3",
   "language": "python",
   "name": "python3"
  },
  "language_info": {
   "codemirror_mode": {
    "name": "ipython",
    "version": 3
   },
   "file_extension": ".py",
   "mimetype": "text/x-python",
   "name": "python",
   "nbconvert_exporter": "python",
   "pygments_lexer": "ipython3",
   "version": "3.8.3"
  }
 },
 "nbformat": 4,
 "nbformat_minor": 4
}
