{
 "cells": [
  {
   "cell_type": "code",
   "execution_count": 1,
   "metadata": {},
   "outputs": [],
   "source": [
    "from src.model import Model"
   ]
  },
  {
   "cell_type": "code",
   "execution_count": 22,
   "metadata": {},
   "outputs": [],
   "source": [
    "model = Model(1, 256, 256, 97)"
   ]
  },
  {
   "cell_type": "code",
   "execution_count": 23,
   "metadata": {},
   "outputs": [
    {
     "data": {
      "text/plain": [
       "<All keys matched successfully>"
      ]
     },
     "execution_count": 23,
     "metadata": {},
     "output_type": "execute_result"
    }
   ],
   "source": [
    "from collections import OrderedDict\n",
    "def copyStateDict(state_dict):\n",
    "    if list(state_dict.keys())[0].startswith(\"module\"):\n",
    "        start_idx = 1\n",
    "    else:\n",
    "        start_idx = 0\n",
    "    new_state_dict = OrderedDict()\n",
    "    for k, v in state_dict.items():\n",
    "        name = \".\".join(k.split(\".\")[start_idx:])\n",
    "        new_state_dict[name] = v\n",
    "    return new_state_dict\n",
    "\n",
    "model.load_state_dict(copyStateDict(torch.load('weights/english_g2.pth', map_location='cuda')))"
   ]
  },
  {
   "cell_type": "code",
   "execution_count": 30,
   "metadata": {},
   "outputs": [
    {
     "name": "stdout",
     "output_type": "stream",
     "text": [
      "-----------------------------------------------------------------------\n",
      "             Layer (type)                Input Shape         Param #\n",
      "=======================================================================\n",
      "   VGG_FeatureExtractor-1          [-1, 1, 400, 400]               0\n",
      "                 Conv2d-2          [-1, 1, 400, 400]             320\n",
      "                   ReLU-3         [-1, 32, 400, 400]               0\n",
      "              MaxPool2d-4         [-1, 32, 400, 400]               0\n",
      "                 Conv2d-5         [-1, 32, 200, 200]          18,496\n",
      "                   ReLU-6         [-1, 64, 200, 200]               0\n",
      "              MaxPool2d-7         [-1, 64, 200, 200]               0\n",
      "                 Conv2d-8         [-1, 64, 100, 100]          73,856\n",
      "                   ReLU-9        [-1, 128, 100, 100]               0\n",
      "                Conv2d-10        [-1, 128, 100, 100]         147,584\n",
      "                  ReLU-11        [-1, 128, 100, 100]               0\n",
      "             MaxPool2d-12        [-1, 128, 100, 100]               0\n",
      "                Conv2d-13         [-1, 128, 50, 100]         294,912\n",
      "           BatchNorm2d-14         [-1, 256, 50, 100]             512\n",
      "                  ReLU-15         [-1, 256, 50, 100]               0\n",
      "                Conv2d-16         [-1, 256, 50, 100]         589,824\n",
      "           BatchNorm2d-17         [-1, 256, 50, 100]             512\n",
      "                  ReLU-18         [-1, 256, 50, 100]               0\n",
      "             MaxPool2d-19         [-1, 256, 50, 100]               0\n",
      "                Conv2d-20         [-1, 256, 25, 100]         262,400\n",
      "                  ReLU-21          [-1, 256, 24, 99]               0\n",
      "     AdaptiveAvgPool2d-22          [-1, 99, 256, 24]               0\n",
      "     BidirectionalLSTM-23              [-1, 99, 256]               0\n",
      "                  LSTM-24              [-1, 99, 256]               0\n",
      "                Linear-25              [-1, 99, 512]         131,328\n",
      "     BidirectionalLSTM-26              [-1, 99, 256]               0\n",
      "                  LSTM-27              [-1, 99, 256]               0\n",
      "                Linear-28              [-1, 99, 512]         131,328\n",
      "                Linear-29              [-1, 99, 256]          24,929\n",
      "=======================================================================\n",
      "Total params: 1,676,001\n",
      "Trainable params: 1,676,001\n",
      "Non-trainable params: 0\n",
      "-----------------------------------------------------------------------\n"
     ]
    }
   ],
   "source": [
    "from modelsummary import summary\n",
    "summary(model, torch.ones(32, 1, 400, 400), '')"
   ]
  },
  {
   "cell_type": "code",
   "execution_count": null,
   "metadata": {},
   "outputs": [],
   "source": []
  }
 ],
 "metadata": {
  "kernelspec": {
   "display_name": "Python 3",
   "language": "python",
   "name": "python3"
  },
  "language_info": {
   "codemirror_mode": {
    "name": "ipython",
    "version": 3
   },
   "file_extension": ".py",
   "mimetype": "text/x-python",
   "name": "python",
   "nbconvert_exporter": "python",
   "pygments_lexer": "ipython3",
   "version": "3.8.3"
  }
 },
 "nbformat": 4,
 "nbformat_minor": 5
}
